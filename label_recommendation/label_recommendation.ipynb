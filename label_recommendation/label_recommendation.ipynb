{
 "cells": [
  {
   "cell_type": "markdown",
   "metadata": {},
   "source": [
    "# Label Recommendation System\n",
    "\n",
    "Recommendation software is among the most used cases in machine learning. The show the user relevant and personalized information. Today, I'll the label recommendation system I developed for a car shop which wanted their employees to label each bill in the database.\n"
   ]
  },
  {
   "cell_type": "markdown",
   "metadata": {},
   "source": [
    "## Data and Data Collection\n",
    "The data was provided by the car shop. In this data set the bill description and its label is stored. The data was labeled with OpenAI's API in on of the next categories:\n",
    "\n",
    "| index | category |\n",
    "| --- | --- |\n",
    "| 0 | Shocks, Control Arms, Tires, Alignmen |\n",
    "| 1 | Oil Change, Ignition, Fuel System |\n",
    "| 2 | Manufacturer Service Intervals |\n",
    "| 3 | Dashboard, Door Locks, Windows |\n",
    "| 4 | Check Engine Light, Inspections |\n",
    "| 5 | Alternator, Battery, Starter, Switches |\n",
    "| 6 | AC System, Blower Motor |\n",
    "| 7 | ABS Control Module, Brake Lines, Brake Pads |\n",
    "| 8 | No category |\\\n",
    "\n",
    "To start, we load the data set DataFrame and clean it."
   ]
  },
  {
   "cell_type": "code",
   "execution_count": 1,
   "metadata": {},
   "outputs": [],
   "source": [
    "import pandas as pd\n",
    "DF = pd.read_csv('labeled_data.csv')\n",
    "DF['description'] = DF['description'].str.strip() #GET RID OF UNNECESSARY SPACES AT THE BIGINING AND END OF THE DESCRIPTION\n",
    "DF['label'] = DF['label'].str.strip(' ,')         #AND THE COMAS AND BLANCK SPACES IN THE LABEL COLUMN\n",
    "DF.dropna(subset=['description', 'label'], inplace=True) #WE DROP THE EMPTY ROWS\n",
    "\n",
    "categories_DF = pd.read_csv('categories.txt')     #FINALLY, WE LOAD THE DATAFRAME THAT CONTAINS THE CATEGORIES"
   ]
  },
  {
   "cell_type": "markdown",
   "metadata": {},
   "source": [
    "## Label Formatting\n",
    "In order to feed the labels to the classifier, they must be first formatted. In a string containing zeroes and ones in a \"one hot\" encoding way."
   ]
  },
  {
   "cell_type": "code",
   "execution_count": 2,
   "metadata": {},
   "outputs": [],
   "source": [
    "#WE CREATE A NEW COLUMN WITH A PROPER LABEL USEFUL TO TRAIN  THE MODEL\n",
    "def one_hot_label(label: str):\n",
    "    place_holder_list = [0 for i in range(9)]\n",
    "    for ind_label in label.split(','):\n",
    "        if int(ind_label)<=9:\n",
    "            place_holder_list[int(ind_label)-1] = 1\n",
    "    return ','.join(list(map(str, place_holder_list)))\n",
    "#THE OUTPUT IS A STRING OF CEROS AND ONES SEPARATED BY COMAS (1,0,0,0,1,0,0,0,1)\n",
    "\n",
    "DF['emb_label'] = DF['label'].apply(one_hot_label)"
   ]
  },
  {
   "cell_type": "markdown",
   "metadata": {},
   "source": [
    "Then, the entries with empty labels are discarded."
   ]
  },
  {
   "cell_type": "code",
   "execution_count": 3,
   "metadata": {},
   "outputs": [
    {
     "data": {
      "text/plain": [
       "(4159, 13)"
      ]
     },
     "execution_count": 3,
     "metadata": {},
     "output_type": "execute_result"
    }
   ],
   "source": [
    "empty_label = ','.join(list(map(str, [0 for _ in range(9)])))\n",
    "DF = DF[DF['emb_label'] != empty_label]\n",
    "DF.shape"
   ]
  },
  {
   "cell_type": "markdown",
   "metadata": {},
   "source": [
    "## Modeling\n",
    "\n",
    "The classifier will be trained on 75% of the data. Because of the nonbinary nature of the labels, a one versus all classifier with a logistic regressor will be fitted."
   ]
  },
  {
   "cell_type": "code",
   "execution_count": 16,
   "metadata": {},
   "outputs": [],
   "source": [
    "#FIRST, WE PREPARE THE TEST AND SPLIT SETS\n",
    "\n",
    "from sklearn.model_selection import train_test_split\n",
    "\n",
    "X_train, X_test, Y_train, Y_test = train_test_split(DF['description'], DF['emb_label'], test_size=0.25)\n",
    "\n",
    "#WE TRAIN THE ONNE VS. REST CLASSIFIER\n",
    "from sklearn.multiclass import OneVsRestClassifier\n",
    "from sklearn.feature_extraction.text import TfidfVectorizer\n",
    "from sklearn.metrics import accuracy_score\n",
    "from sklearn.linear_model import LogisticRegression\n",
    "\n",
    "\n",
    "vectorizer = TfidfVectorizer()\n",
    "vectorizer.fit(X_train)\n",
    "X_train_tfidf = vectorizer.transform(X_train)\n",
    "X_test_tfidf = vectorizer.transform(X_test)\n",
    "\n",
    "base_classifier = LogisticRegression()\n",
    "clf = OneVsRestClassifier(base_classifier)\n",
    "clf.fit(X_train_tfidf, Y_train)\n"
   ]
  },
  {
   "cell_type": "markdown",
   "metadata": {},
   "source": [
    "Then, the accuracy score is displayed for the training test and the testing set:"
   ]
  },
  {
   "cell_type": "code",
   "execution_count": 27,
   "metadata": {},
   "outputs": [
    {
     "name": "stdout",
     "output_type": "stream",
     "text": [
      "Accuracy in test set: 0.691\n",
      "Accuracy in train set: 0.786\n"
     ]
    }
   ],
   "source": [
    "print('Accuracy in test set:', round(accuracy_score(Y_test, clf.predict(X_test_tfidf)), 3))\n",
    "print('Accuracy in train set:', round(accuracy_score(Y_train, clf.predict(X_train_tfidf)), 3))"
   ]
  },
  {
   "cell_type": "markdown",
   "metadata": {},
   "source": [
    "Even though the accuracy scores fairly low, the classifier are still very useful. Because we will use not only the first prediction, but a collection of the best predictions. So the chance of recommending an adequate label increases."
   ]
  },
  {
   "cell_type": "markdown",
   "metadata": {},
   "source": [
    "## Building the Recommendation Function\n",
    "\n",
    "With the classifier ready, we have to pass from the classifier outputs (a string of zeros and ones '0,0,0,0,1,0,0,0,0') to the label descriptions. And we have to select not only the best prediction but the best three predictions."
   ]
  },
  {
   "cell_type": "code",
   "execution_count": 6,
   "metadata": {},
   "outputs": [],
   "source": [
    "#THIS FUNCTION TRANSFORMS THE CALSSIFIER AOUTPURS INTO A LIST OF DESCRIPTIVE LABEL RECOMENDATIONS.\n",
    "#THE LABEL DESCRIPTIONS ARE STORED IN A DIFFERENT DATA FRAME\n",
    "def one_hot_to_label_description(emb_label: str):\n",
    "    recommendation_list = []\n",
    "    emb_label_list = [int(i) for i in emb_label.split(',')]\n",
    "    for index, element in enumerate(emb_label_list):\n",
    "        if element == 1:\n",
    "            recommendation_list.append(categories_DF['category'][index])\n",
    "    return recommendation_list"
   ]
  },
  {
   "cell_type": "markdown",
   "metadata": {},
   "source": [
    "Then, we define the function that takes a string (the bill description) and outputs the top N predictions ranked according to the probability values calculated by the classifier. By the fault, this function will return the top three recommendations. But, if specified, it can return an arbitrary number of labels."
   ]
  },
  {
   "cell_type": "code",
   "execution_count": 29,
   "metadata": {},
   "outputs": [],
   "source": [
    "def top_label_recommendation(description: str, number_of_recommenmdations = 3):\n",
    "    probability_values = clf.predict_proba(vectorizer.transform([description]))\n",
    "    probability_values_DF = pd.DataFrame(probability_values.transpose(), columns=['probability']) #WE WILL TAKE ADVANTAGE OF THE DATAFRAMES PROPETIES TO ORGANIZE THE PROBABILITIES AND                                                                                                  \n",
    "    probability_values_DF.sort_values(by='probability', ascending=False, inplace=True, ignore_index=False)#                            TO CONSERVE THE INDEX LINKED TO THE CLASS PREDICTION\n",
    "\n",
    "    label_recommendation=[]\n",
    "    for index in probability_values_DF.index[:number_of_recommenmdations]:\n",
    "        label_recommendation += one_hot_to_label_description(clf.classes_[index])\n",
    "    return(list(set(label_recommendation)))"
   ]
  },
  {
   "cell_type": "markdown",
   "metadata": {},
   "source": [
    "Let's run some examples:"
   ]
  },
  {
   "cell_type": "code",
   "execution_count": 31,
   "metadata": {},
   "outputs": [
    {
     "name": "stdout",
     "output_type": "stream",
     "text": [
      "Oil Change, Ignition, Fuel System\n",
      "No category\n",
      "Shocks, Control Arms, Tires, Alignment\n"
     ]
    }
   ],
   "source": [
    "#EX: 1\n",
    "for element in top_label_recommendation('oil change, rear tie rod pass side'):\n",
    "    print(element)"
   ]
  },
  {
   "cell_type": "code",
   "execution_count": 33,
   "metadata": {},
   "outputs": [
    {
     "name": "stdout",
     "output_type": "stream",
     "text": [
      "ABS Control Module, Brake Lines, Brake Pads\n",
      "Oil Change, Ignition, Fuel System\n",
      "No category\n",
      "Check Engine Light, Inspections\n"
     ]
    }
   ],
   "source": [
    "#EX: 2\n",
    "for element in top_label_recommendation('oxygen sensor up stream replacement', 4):\n",
    "    print(element)"
   ]
  },
  {
   "cell_type": "code",
   "execution_count": 32,
   "metadata": {},
   "outputs": [
    {
     "name": "stdout",
     "output_type": "stream",
     "text": [
      "ABS Control Module, Brake Lines, Brake Pads\n",
      "Shocks, Control Arms, Tires, Alignment\n",
      "Dashboard, Door Locks, Windows\n",
      "Oil Change, Ignition, Fuel System\n",
      "No category\n"
     ]
    }
   ],
   "source": [
    "#EX: 3\n",
    "for element in top_label_recommendation('r+r rear differential support', 5):\n",
    "    print(element)"
   ]
  },
  {
   "cell_type": "markdown",
   "metadata": {},
   "source": [
    "## Conclusions\n",
    "\n",
    "The 69% accuracy with the addition of the next best recommendation create a capable label recommendation. This work will help the car shop employees maintain a clean and neat database."
   ]
  },
  {
   "cell_type": "markdown",
   "metadata": {},
   "source": [
    "# Author\n",
    "Leonardo Mier\\\n",
    "leo97mier@gmail.com"
   ]
  }
 ],
 "metadata": {
  "kernelspec": {
   "display_name": "Python 3",
   "language": "python",
   "name": "python3"
  },
  "language_info": {
   "codemirror_mode": {
    "name": "ipython",
    "version": 3
   },
   "file_extension": ".py",
   "mimetype": "text/x-python",
   "name": "python",
   "nbconvert_exporter": "python",
   "pygments_lexer": "ipython3",
   "version": "3.11.2"
  },
  "orig_nbformat": 4
 },
 "nbformat": 4,
 "nbformat_minor": 2
}
